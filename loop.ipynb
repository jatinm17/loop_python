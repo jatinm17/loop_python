{
 "cells": [
  {
   "cell_type": "code",
   "execution_count": 1,
   "id": "39bc8610-c2c3-4194-99e1-0b39cd81dd1b",
   "metadata": {},
   "outputs": [
    {
     "name": "stdout",
     "output_type": "stream",
     "text": [
      "pen\n",
      "notebook\n",
      "pencil\n",
      "lunch box\n",
      "pen\n",
      "notebook\n",
      "pencil\n",
      "lunch box\n"
     ]
    }
   ],
   "source": [
    "# QUESTION 1\n",
    "# use of while loop when no. of iterations are known \n",
    "items = ['pen', 'notebook',\n",
    "         'pencil', 'lunch box']\n",
    "index = 0\n",
    "items_len = len(items)\n",
    "while index<items_len:\n",
    "  print(items[index])\n",
    "  index = index+1\n",
    "# use of for loop\n",
    "for i in items:\n",
    "    print(i)\n"
   ]
  },
  {
   "cell_type": "code",
   "execution_count": 2,
   "id": "2590ec3f-a8d4-48a0-ae85-ea79e53e8c23",
   "metadata": {},
   "outputs": [
    {
     "name": "stdout",
     "output_type": "stream",
     "text": [
      "55\n",
      "3628800\n",
      "55\n",
      "3628800\n"
     ]
    }
   ],
   "source": [
    "# QUESTION 2\n",
    "# while loop\n",
    "n=10\n",
    "s=0\n",
    "p=1\n",
    "while(n>0):\n",
    "    s=n+s\n",
    "    p=p*n\n",
    "    n=n-1\n",
    "print(s)\n",
    "print(p)\n",
    "# using for loop\n",
    "summ=0\n",
    "prod=1\n",
    "n=10\n",
    "for i in range(1,n+1):\n",
    "    summ=summ+i\n",
    "    prod=prod*i\n",
    "print(summ)\n",
    "print(prod)"
   ]
  },
  {
   "cell_type": "code",
   "execution_count": 3,
   "id": "e641030e-04a9-4f25-9ce6-8dcaa7f16a02",
   "metadata": {},
   "outputs": [
    {
     "name": "stdin",
     "output_type": "stream",
     "text": [
      "Enter the number of units consumed:  500\n"
     ]
    },
    {
     "name": "stdout",
     "output_type": "stream",
     "text": [
      "Your electricity bill amount is: Rs. 6050.00\n"
     ]
    }
   ],
   "source": [
    "# QUESTION 3\n",
    "def calculate_electricity_bill(units):\n",
    "    total_bill = 0\n",
    "\n",
    "    # For the first 100 units\n",
    "    if units <= 100:\n",
    "        total_bill = units * 4.5\n",
    "    else:\n",
    "        total_bill += 100 * 4.5\n",
    "        units -= 100\n",
    "\n",
    "        # For the next 100 units\n",
    "        if units <= 100:\n",
    "            total_bill += units * 6\n",
    "        else:\n",
    "            total_bill += 100 * 6\n",
    "            units -= 100\n",
    "\n",
    "            # For the next 100 units\n",
    "            if units <= 100:\n",
    "                total_bill += units * 10\n",
    "            else:\n",
    "                total_bill += 100 * 10\n",
    "                units -= 100\n",
    "\n",
    "                # For units above 300\n",
    "                total_bill += units * 20\n",
    "\n",
    "    return total_bill\n",
    "\n",
    "\n",
    "units_consumed = float(input(\"Enter the number of units consumed: \"))\n",
    "bill_amount = calculate_electricity_bill(units_consumed)\n",
    "print(f\"Your electricity bill amount is: Rs. {bill_amount:.2f}\")\n",
    "\n"
   ]
  },
  {
   "cell_type": "code",
   "execution_count": 4,
   "id": "2eebbe22-2e46-4148-83bb-768bbc1f70a3",
   "metadata": {},
   "outputs": [
    {
     "name": "stdout",
     "output_type": "stream",
     "text": [
      "[2, 4, 5, 6, 8, 10, 12, 14, 15, 16, 18, 20, 22, 24, 25, 26, 28, 30, 32, 34, 35, 36, 38, 40, 42, 44, 45, 46, 48, 50, 52, 54, 55, 56, 58, 60, 62, 64, 65, 66, 68, 70, 72, 74, 75, 76, 78, 80, 82, 84, 85, 86, 88, 90, 92, 94, 95, 96, 98, 100]\n",
      "[2, 4, 5, 6, 8, 10, 12, 14, 15, 16, 18, 20, 22, 24, 25, 26, 28, 30, 32, 34, 35, 36, 38, 40, 42, 44, 45, 46, 48, 50, 52, 54, 55, 56, 58, 60, 62, 64, 65, 66, 68, 70, 72, 74, 75, 76, 78, 80, 82, 84, 85, 86, 88, 90, 92, 94, 95, 96, 98, 100]\n"
     ]
    }
   ],
   "source": [
    "# QUESTION 4\n",
    "# Using for loop\n",
    "numbers = list(range(1, 101))\n",
    "cubes_divisible_by_4_or_5 = []\n",
    "\n",
    "for num in numbers:\n",
    "    cube = num ** 3\n",
    "    if cube % 4 == 0 or cube % 5 == 0:\n",
    "        cubes_divisible_by_4_or_5.append(num)\n",
    "\n",
    "print(cubes_divisible_by_4_or_5)\n",
    "\n",
    "# Using while loop\n",
    "numbers = list(range(1, 101))\n",
    "cubes_divisible_by_4_or_5 = []\n",
    "i = 0\n",
    "\n",
    "while i < len(numbers):\n",
    "    cube = numbers[i] ** 3\n",
    "    if cube % 4 == 0 or cube % 5 == 0:\n",
    "        cubes_divisible_by_4_or_5.append(numbers[i])\n",
    "    i += 1\n",
    "\n",
    "print(cubes_divisible_by_4_or_5)\n"
   ]
  },
  {
   "cell_type": "code",
   "execution_count": 1,
   "id": "474a84d7-c272-4ff2-9734-8cc4f867138e",
   "metadata": {},
   "outputs": [
    {
     "name": "stdout",
     "output_type": "stream",
     "text": [
      "12\n"
     ]
    }
   ],
   "source": [
    "# QUESTION 5\n",
    "\n",
    "string =  \"I want to become a data scientist\"\n",
    "vowels = \"aeiouAEIOU\"\n",
    " \n",
    "count = sum(string.count(vowel) for vowel in vowels)\n",
    "print(count)"
   ]
  },
  {
   "cell_type": "code",
   "execution_count": null,
   "id": "e9d55053-6de1-49ee-a453-f3c441e70160",
   "metadata": {},
   "outputs": [],
   "source": []
  },
  {
   "cell_type": "code",
   "execution_count": null,
   "id": "00b404bd-1cb8-416c-a1bc-9dfb706e7d5a",
   "metadata": {},
   "outputs": [],
   "source": []
  }
 ],
 "metadata": {
  "kernelspec": {
   "display_name": "Python 3 (ipykernel)",
   "language": "python",
   "name": "python3"
  },
  "language_info": {
   "codemirror_mode": {
    "name": "ipython",
    "version": 3
   },
   "file_extension": ".py",
   "mimetype": "text/x-python",
   "name": "python",
   "nbconvert_exporter": "python",
   "pygments_lexer": "ipython3",
   "version": "3.10.8"
  }
 },
 "nbformat": 4,
 "nbformat_minor": 5
}
